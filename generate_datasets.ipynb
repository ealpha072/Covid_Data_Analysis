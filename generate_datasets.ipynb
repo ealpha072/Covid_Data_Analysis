{
 "cells": [
  {
   "cell_type": "code",
   "execution_count": 47,
   "id": "d3a0a15e",
   "metadata": {},
   "outputs": [],
   "source": [
    "import pandas as pd\n",
    "import numpy as np\n",
    "import os\n",
    "import sys"
   ]
  },
  {
   "cell_type": "code",
   "execution_count": 2,
   "id": "775f7904",
   "metadata": {},
   "outputs": [],
   "source": [
    "data = pd.read_csv('clean_data.csv')"
   ]
  },
  {
   "cell_type": "code",
   "execution_count": 51,
   "id": "ed1d7fdd",
   "metadata": {},
   "outputs": [],
   "source": [
    "def get_country_data(country, directory_name, data = ''):\n",
    "    country_name = country.lower()\n",
    "    path = os.getcwd()\n",
    "    new_dir = os.path.join(path, directory_name)\n",
    "    if not os.path.exists(directory_name):\n",
    "        os.mkdir(new_dir)\n",
    "    else:\n",
    "        print('Directory Exists, data will be saved in existing directory')\n",
    "        \n",
    "    options_to_check = [i for i in list(data['location']) if i[0].lower() == country_name[0]][0]\n",
    "    \n",
    "    if len(options_to_check) == 0:\n",
    "        print('Error, you gave an invalid country name')\n",
    "        print(options_to_check)\n",
    "    else:\n",
    "        country_data = data.loc[data['location'] == country]\n",
    "        try:\n",
    "            #\n",
    "            country_data.to_csv(new_dir + country_name + 'covid_data.csv')\n",
    "            print('Data generated successsfully')\n",
    "        except Exception as e:\n",
    "            logger.error('Failed to generate data: '+ str(e))\n",
    "        return country_data"
   ]
  }
 ],
 "metadata": {
  "kernelspec": {
   "display_name": "Python 3 (ipykernel)",
   "language": "python",
   "name": "python3"
  },
  "language_info": {
   "codemirror_mode": {
    "name": "ipython",
    "version": 3
   },
   "file_extension": ".py",
   "mimetype": "text/x-python",
   "name": "python",
   "nbconvert_exporter": "python",
   "pygments_lexer": "ipython3",
   "version": "3.10.4"
  }
 },
 "nbformat": 4,
 "nbformat_minor": 5
}
