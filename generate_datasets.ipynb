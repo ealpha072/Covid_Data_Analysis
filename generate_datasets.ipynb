{
 "cells": [
  {
   "cell_type": "code",
   "execution_count": 3,
   "id": "d3a0a15e",
   "metadata": {},
   "outputs": [],
   "source": [
    "import pandas as pd\n",
    "import numpy as np\n",
    "import os\n",
    "import sys"
   ]
  },
  {
   "cell_type": "code",
   "execution_count": 4,
   "id": "775f7904",
   "metadata": {},
   "outputs": [],
   "source": [
    "data = pd.read_csv('clean_data.csv')"
   ]
  },
  {
   "cell_type": "code",
   "execution_count": 5,
   "id": "ed1d7fdd",
   "metadata": {},
   "outputs": [],
   "source": [
    "def get_country_data(country:list, directory_name:str, data = ''):\n",
    "    country_name = [i.capitalize() for i in country]\n",
    "    print(country_name)\n",
    "    path = os.getcwd()\n",
    "    new_dir = os.path.join(path, directory_name)\n",
    "    status = [False for i in range(0, len(country_name))]\n",
    "    new_status = []\n",
    "    \n",
    "    if not os.path.exists(directory_name):\n",
    "        os.mkdir(new_dir)\n",
    "    else:\n",
    "        print('Directory Exists, data will be saved in existing directory')\n",
    "    \n",
    "    for i in country_name:\n",
    "        if i not in list(data['location']):\n",
    "            print('Unable to find the specified location {}'.format(i))\n",
    "        else:\n",
    "            new_status.append(True)\n",
    "            print('Found location')\n",
    "    print(status)\n",
    "    print()\n",
    "    if len(new_status) == len(status):\n",
    "        for i in country_name:\n",
    "            country_data = data.loc[data['location'] == i]\n",
    "            try:\n",
    "                country_data.to_csv(i.lower() + '_covid_data.csv')\n",
    "                print('Data generated successsfully')\n",
    "            except Exception as e:\n",
    "                logger.error('Failed to generate data: '+ str(e))\n",
    "            return country_data"
   ]
  },
  {
   "cell_type": "code",
   "execution_count": 6,
   "id": "7004d183",
   "metadata": {},
   "outputs": [
    {
     "name": "stdout",
     "output_type": "stream",
     "text": [
      "['Uganda', 'Kya']\n",
      "Found location\n",
      "Unable to find the specified location Kya\n",
      "[False, False]\n"
     ]
    }
   ],
   "source": [
    "get_country_data(['Uganda', 'kya'], 'dsdsdfs', data)"
   ]
  },
  {
   "cell_type": "code",
   "execution_count": 43,
   "id": "eada21e6",
   "metadata": {},
   "outputs": [],
   "source": [
    "nmaes = ['as','ff','dfff','fff']"
   ]
  },
  {
   "cell_type": "code",
   "execution_count": 44,
   "id": "77734f5a",
   "metadata": {},
   "outputs": [],
   "source": [
    "status = [False for i in range(0, len(nmaes))]"
   ]
  },
  {
   "cell_type": "code",
   "execution_count": 45,
   "id": "08120672",
   "metadata": {},
   "outputs": [
    {
     "data": {
      "text/plain": [
       "[False, False, False, False]"
      ]
     },
     "execution_count": 45,
     "metadata": {},
     "output_type": "execute_result"
    }
   ],
   "source": [
    "status"
   ]
  },
  {
   "cell_type": "code",
   "execution_count": 46,
   "id": "d57de7d2",
   "metadata": {},
   "outputs": [],
   "source": [
    "st = [False, True, False]"
   ]
  },
  {
   "cell_type": "code",
   "execution_count": 47,
   "id": "7d3fa74e",
   "metadata": {},
   "outputs": [
    {
     "name": "stdout",
     "output_type": "stream",
     "text": [
      "Found\n"
     ]
    }
   ],
   "source": [
    "if True in st:\n",
    "    print('Found')"
   ]
  },
  {
   "cell_type": "code",
   "execution_count": 39,
   "id": "2fc6166e",
   "metadata": {},
   "outputs": [
    {
     "data": {
      "text/plain": [
       "[False, False, True, True]"
      ]
     },
     "execution_count": 39,
     "metadata": {},
     "output_type": "execute_result"
    }
   ],
   "source": [
    "status"
   ]
  },
  {
   "cell_type": "code",
   "execution_count": 32,
   "id": "78792e71",
   "metadata": {},
   "outputs": [
    {
     "data": {
      "text/html": [
       "<div>\n",
       "<style scoped>\n",
       "    .dataframe tbody tr th:only-of-type {\n",
       "        vertical-align: middle;\n",
       "    }\n",
       "\n",
       "    .dataframe tbody tr th {\n",
       "        vertical-align: top;\n",
       "    }\n",
       "\n",
       "    .dataframe thead th {\n",
       "        text-align: right;\n",
       "    }\n",
       "</style>\n",
       "<table border=\"1\" class=\"dataframe\">\n",
       "  <thead>\n",
       "    <tr style=\"text-align: right;\">\n",
       "      <th></th>\n",
       "      <th>Unnamed: 0</th>\n",
       "      <th>continent</th>\n",
       "      <th>location</th>\n",
       "      <th>date</th>\n",
       "      <th>total_cases</th>\n",
       "      <th>total_deaths</th>\n",
       "      <th>total_tests</th>\n",
       "      <th>total_vaccinations</th>\n",
       "      <th>population</th>\n",
       "    </tr>\n",
       "  </thead>\n",
       "  <tbody>\n",
       "    <tr>\n",
       "      <th>89613</th>\n",
       "      <td>89613</td>\n",
       "      <td>Africa</td>\n",
       "      <td>Kenya</td>\n",
       "      <td>2020-03-06</td>\n",
       "      <td>NaN</td>\n",
       "      <td>NaN</td>\n",
       "      <td>31.0</td>\n",
       "      <td>NaN</td>\n",
       "      <td>54985702.0</td>\n",
       "    </tr>\n",
       "    <tr>\n",
       "      <th>89614</th>\n",
       "      <td>89614</td>\n",
       "      <td>Africa</td>\n",
       "      <td>Kenya</td>\n",
       "      <td>2020-03-07</td>\n",
       "      <td>NaN</td>\n",
       "      <td>NaN</td>\n",
       "      <td>NaN</td>\n",
       "      <td>NaN</td>\n",
       "      <td>54985702.0</td>\n",
       "    </tr>\n",
       "    <tr>\n",
       "      <th>89615</th>\n",
       "      <td>89615</td>\n",
       "      <td>Africa</td>\n",
       "      <td>Kenya</td>\n",
       "      <td>2020-03-08</td>\n",
       "      <td>NaN</td>\n",
       "      <td>NaN</td>\n",
       "      <td>NaN</td>\n",
       "      <td>NaN</td>\n",
       "      <td>54985702.0</td>\n",
       "    </tr>\n",
       "    <tr>\n",
       "      <th>89616</th>\n",
       "      <td>89616</td>\n",
       "      <td>Africa</td>\n",
       "      <td>Kenya</td>\n",
       "      <td>2020-03-09</td>\n",
       "      <td>NaN</td>\n",
       "      <td>NaN</td>\n",
       "      <td>NaN</td>\n",
       "      <td>NaN</td>\n",
       "      <td>54985702.0</td>\n",
       "    </tr>\n",
       "    <tr>\n",
       "      <th>89617</th>\n",
       "      <td>89617</td>\n",
       "      <td>Africa</td>\n",
       "      <td>Kenya</td>\n",
       "      <td>2020-03-10</td>\n",
       "      <td>NaN</td>\n",
       "      <td>NaN</td>\n",
       "      <td>NaN</td>\n",
       "      <td>NaN</td>\n",
       "      <td>54985702.0</td>\n",
       "    </tr>\n",
       "    <tr>\n",
       "      <th>...</th>\n",
       "      <td>...</td>\n",
       "      <td>...</td>\n",
       "      <td>...</td>\n",
       "      <td>...</td>\n",
       "      <td>...</td>\n",
       "      <td>...</td>\n",
       "      <td>...</td>\n",
       "      <td>...</td>\n",
       "      <td>...</td>\n",
       "    </tr>\n",
       "    <tr>\n",
       "      <th>90421</th>\n",
       "      <td>90421</td>\n",
       "      <td>Africa</td>\n",
       "      <td>Kenya</td>\n",
       "      <td>2022-05-23</td>\n",
       "      <td>324274.0</td>\n",
       "      <td>5651.0</td>\n",
       "      <td>NaN</td>\n",
       "      <td>NaN</td>\n",
       "      <td>54985702.0</td>\n",
       "    </tr>\n",
       "    <tr>\n",
       "      <th>90422</th>\n",
       "      <td>90422</td>\n",
       "      <td>Africa</td>\n",
       "      <td>Kenya</td>\n",
       "      <td>2022-05-24</td>\n",
       "      <td>324349.0</td>\n",
       "      <td>5651.0</td>\n",
       "      <td>NaN</td>\n",
       "      <td>NaN</td>\n",
       "      <td>54985702.0</td>\n",
       "    </tr>\n",
       "    <tr>\n",
       "      <th>90423</th>\n",
       "      <td>90423</td>\n",
       "      <td>Africa</td>\n",
       "      <td>Kenya</td>\n",
       "      <td>2022-05-25</td>\n",
       "      <td>324406.0</td>\n",
       "      <td>5651.0</td>\n",
       "      <td>NaN</td>\n",
       "      <td>NaN</td>\n",
       "      <td>54985702.0</td>\n",
       "    </tr>\n",
       "    <tr>\n",
       "      <th>90424</th>\n",
       "      <td>90424</td>\n",
       "      <td>Africa</td>\n",
       "      <td>Kenya</td>\n",
       "      <td>2022-05-26</td>\n",
       "      <td>324469.0</td>\n",
       "      <td>5651.0</td>\n",
       "      <td>NaN</td>\n",
       "      <td>NaN</td>\n",
       "      <td>54985702.0</td>\n",
       "    </tr>\n",
       "    <tr>\n",
       "      <th>90425</th>\n",
       "      <td>90425</td>\n",
       "      <td>Africa</td>\n",
       "      <td>Kenya</td>\n",
       "      <td>2022-05-27</td>\n",
       "      <td>324558.0</td>\n",
       "      <td>5651.0</td>\n",
       "      <td>NaN</td>\n",
       "      <td>NaN</td>\n",
       "      <td>54985702.0</td>\n",
       "    </tr>\n",
       "  </tbody>\n",
       "</table>\n",
       "<p>813 rows × 9 columns</p>\n",
       "</div>"
      ],
      "text/plain": [
       "       Unnamed: 0 continent location        date  total_cases  total_deaths  \\\n",
       "89613       89613    Africa    Kenya  2020-03-06          NaN           NaN   \n",
       "89614       89614    Africa    Kenya  2020-03-07          NaN           NaN   \n",
       "89615       89615    Africa    Kenya  2020-03-08          NaN           NaN   \n",
       "89616       89616    Africa    Kenya  2020-03-09          NaN           NaN   \n",
       "89617       89617    Africa    Kenya  2020-03-10          NaN           NaN   \n",
       "...           ...       ...      ...         ...          ...           ...   \n",
       "90421       90421    Africa    Kenya  2022-05-23     324274.0        5651.0   \n",
       "90422       90422    Africa    Kenya  2022-05-24     324349.0        5651.0   \n",
       "90423       90423    Africa    Kenya  2022-05-25     324406.0        5651.0   \n",
       "90424       90424    Africa    Kenya  2022-05-26     324469.0        5651.0   \n",
       "90425       90425    Africa    Kenya  2022-05-27     324558.0        5651.0   \n",
       "\n",
       "       total_tests  total_vaccinations  population  \n",
       "89613         31.0                 NaN  54985702.0  \n",
       "89614          NaN                 NaN  54985702.0  \n",
       "89615          NaN                 NaN  54985702.0  \n",
       "89616          NaN                 NaN  54985702.0  \n",
       "89617          NaN                 NaN  54985702.0  \n",
       "...            ...                 ...         ...  \n",
       "90421          NaN                 NaN  54985702.0  \n",
       "90422          NaN                 NaN  54985702.0  \n",
       "90423          NaN                 NaN  54985702.0  \n",
       "90424          NaN                 NaN  54985702.0  \n",
       "90425          NaN                 NaN  54985702.0  \n",
       "\n",
       "[813 rows x 9 columns]"
      ]
     },
     "execution_count": 32,
     "metadata": {},
     "output_type": "execute_result"
    }
   ],
   "source": [
    "data.loc[data['location'] == 'Kenya']"
   ]
  },
  {
   "cell_type": "code",
   "execution_count": null,
   "id": "c475ba74",
   "metadata": {},
   "outputs": [],
   "source": []
  }
 ],
 "metadata": {
  "kernelspec": {
   "display_name": "Python 3 (ipykernel)",
   "language": "python",
   "name": "python3"
  },
  "language_info": {
   "codemirror_mode": {
    "name": "ipython",
    "version": 3
   },
   "file_extension": ".py",
   "mimetype": "text/x-python",
   "name": "python",
   "nbconvert_exporter": "python",
   "pygments_lexer": "ipython3",
   "version": "3.10.4"
  }
 },
 "nbformat": 4,
 "nbformat_minor": 5
}
