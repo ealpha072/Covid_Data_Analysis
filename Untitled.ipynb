{
 "cells": [
  {
   "cell_type": "code",
   "execution_count": 2,
   "id": "d9761776",
   "metadata": {},
   "outputs": [],
   "source": [
    "import pandas as pd\n",
    "import numpy as np"
   ]
  },
  {
   "cell_type": "code",
   "execution_count": 4,
   "id": "2ad61fec",
   "metadata": {},
   "outputs": [],
   "source": [
    "data = pd.read_csv('clean_data.csv')"
   ]
  },
  {
   "cell_type": "code",
   "execution_count": 8,
   "id": "d098ec23",
   "metadata": {},
   "outputs": [],
   "source": [
    "def pre_process(path_to_data):\n",
    "    data = pd.read_csv(path_to_data)\n",
    "    data.drop(columns='Unnamed: 0', axis=1, inplace=True)\n",
    "    data.fillna({'total_cases':0, 'total_deaths':0, 'total_tests':0, 'total_vaccinations':0}, inplace=True)\n",
    "    data = data[data['continent'].notna()]\n",
    "    return data"
   ]
  },
  {
   "cell_type": "code",
   "execution_count": 9,
   "id": "ad58904f",
   "metadata": {},
   "outputs": [],
   "source": [
    "clean_data = pre_process('clean_data.csv')"
   ]
  },
  {
   "cell_type": "code",
   "execution_count": 10,
   "id": "603da881",
   "metadata": {},
   "outputs": [],
   "source": [
    "def group_data(data, group_by_first, group_by_second, aggregate_by):\n",
    "    group_by = data[group_by_first].unique()\n",
    "    data_columns = locals()\n",
    "    generated_data  = []\n",
    "    for i in group_by:\n",
    "        grouped_data = data.loc[data[group_by_first] == i]\n",
    "        unique_vals = grouped_data[group_by_second].unique()\n",
    "        for ii in unique_vals:\n",
    "            country_totals = []\n",
    "            for j in aggregate_by:\n",
    "                totals = grouped_data.loc[grouped_data[group_by_second]==ii][j].sum()\n",
    "                country_totals.append(totals)\n",
    "            generated_data.append(tuple((i,ii, country_totals)))\n",
    "    generated_data = pd.DataFrame(generated_data)\n",
    "    generated_data[[i for i in aggregate_by]] = generated_data[2].to_list()\n",
    "    generated_data.drop(axis=1, columns=2, inplace=True)\n",
    "    data_columns = list(data_columns.values())[1:-1]\n",
    "    column_list = data_columns[-1]\n",
    "    data_columns = data_columns[0:-1]\n",
    "    for i in column_list:\n",
    "        data_columns.append(i)\n",
    "    generated_data.columns = data_columns\n",
    "    return generated_data"
   ]
  },
  {
   "cell_type": "code",
   "execution_count": 15,
   "id": "7d49728f",
   "metadata": {},
   "outputs": [],
   "source": [
    "generated_data = group_data(clean_data, 'continent', 'location', \n",
    "                            ['total_deaths','total_cases','total_tests','total_vaccinations'])"
   ]
  },
  {
   "cell_type": "code",
   "execution_count": 37,
   "id": "7def0754",
   "metadata": {},
   "outputs": [],
   "source": [
    "def group_data_aggregate(dataset, group_by, columns_to_aggregate):\n",
    "    group_by_value = dataset.groupby(group_by)\n",
    "    for i in columns_to_aggregate:\n",
    "        data = group_by_value[i].agg(np.sum)\n",
    "        return tuple((i,data))\n",
    "    \n",
    "    \n",
    "    \n",
    "    \n",
    "    "
   ]
  },
  {
   "cell_type": "code",
   "execution_count": 38,
   "id": "93cffc0d",
   "metadata": {},
   "outputs": [
    {
     "data": {
      "text/plain": [
       "('total_deaths',\n",
       " continent\n",
       " Africa           100333043.0\n",
       " Asia             528720945.0\n",
       " Europe           712815868.0\n",
       " North America    601402795.0\n",
       " Oceania            2115811.0\n",
       " South America    573970880.0\n",
       " Name: total_deaths, dtype: float64)"
      ]
     },
     "execution_count": 38,
     "metadata": {},
     "output_type": "execute_result"
    }
   ],
   "source": [
    "group_data_aggregate(generated_data, 'continent', ['total_deaths', 'total_cases'])"
   ]
  },
  {
   "cell_type": "code",
   "execution_count": null,
   "id": "5c0f0f14",
   "metadata": {},
   "outputs": [],
   "source": []
  }
 ],
 "metadata": {
  "kernelspec": {
   "display_name": "Python 3 (ipykernel)",
   "language": "python",
   "name": "python3"
  },
  "language_info": {
   "codemirror_mode": {
    "name": "ipython",
    "version": 3
   },
   "file_extension": ".py",
   "mimetype": "text/x-python",
   "name": "python",
   "nbconvert_exporter": "python",
   "pygments_lexer": "ipython3",
   "version": "3.8.10"
  }
 },
 "nbformat": 4,
 "nbformat_minor": 5
}
